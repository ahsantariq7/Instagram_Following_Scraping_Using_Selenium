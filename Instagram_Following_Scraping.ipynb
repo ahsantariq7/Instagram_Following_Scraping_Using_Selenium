{
 "cells": [
  {
   "cell_type": "code",
   "execution_count": 2,
   "id": "a72eb61d",
   "metadata": {},
   "outputs": [],
   "source": [
    "from selenium import webdriver\n",
    "from webdriver_manager.chrome import ChromeDriverManager\n",
    "from selenium.webdriver.common.by import By\n",
    "import time"
   ]
  },
  {
   "cell_type": "code",
   "execution_count": 3,
   "id": "0fe67795",
   "metadata": {},
   "outputs": [
    {
     "name": "stderr",
     "output_type": "stream",
     "text": [
      "C:\\Users\\ahsan\\AppData\\Local\\Temp\\ipykernel_10768\\687432178.py:1: DeprecationWarning: executable_path has been deprecated, please pass in a Service object\n",
      "  driver=webdriver.Chrome(ChromeDriverManager().install())\n"
     ]
    }
   ],
   "source": [
    "driver=webdriver.Chrome(ChromeDriverManager().install())\n",
    "driver.get('https://www.instagram.com/accounts/login/')\n",
    "time.sleep(5)"
   ]
  },
  {
   "cell_type": "code",
   "execution_count": 4,
   "id": "39b820f2",
   "metadata": {},
   "outputs": [],
   "source": [
    "user_input=driver.find_element(By.NAME,'username')\n",
    "pass_input=driver.find_element(By.NAME,'password')\n",
    "user_input.send_keys('engr_ahsan_tariq_0724')\n",
    "pass_input.send_keys('Ahsan8988')\n",
    "\n",
    "login_button=driver.find_element(By.XPATH,'//*[@id=\"loginForm\"]/div/div[3]/button')\n",
    "login_button.click()"
   ]
  },
  {
   "cell_type": "code",
   "execution_count": 5,
   "id": "d186029f",
   "metadata": {},
   "outputs": [],
   "source": [
    "account=['engr_ahsan_tariq_0724']\n",
    "\n",
    "for acc in account:\n",
    "    driver.get(f'https://www.instagram.com/{acc}/following')"
   ]
  },
  {
   "cell_type": "code",
   "execution_count": 8,
   "id": "0cc9cabd",
   "metadata": {},
   "outputs": [],
   "source": [
    "a=driver.find_elements(By.CLASS_NAME,'x9f619.xjbqb8w.x78zum5.x168nmei.x13lgxp2.x5pf9jr.xo71vjh.x1uhb9sk.x1plvlek.xryxfnj.x1c4vz4f.x2lah0s.x1q0g3np.xqjyukv.x1qjc9v5.x1oa3qoh.x1nhvcw1')"
   ]
  },
  {
   "cell_type": "code",
   "execution_count": 11,
   "id": "df2054ad",
   "metadata": {},
   "outputs": [],
   "source": [
    "lis=[]\n",
    "for i in a:\n",
    "    lis.append(i.text)"
   ]
  },
  {
   "cell_type": "code",
   "execution_count": 10,
   "id": "b746559f",
   "metadata": {},
   "outputs": [],
   "source": [
    "import pandas as pd"
   ]
  },
  {
   "cell_type": "code",
   "execution_count": 13,
   "id": "6b320b92",
   "metadata": {},
   "outputs": [
    {
     "name": "stdout",
     "output_type": "stream",
     "text": [
      "         following_usernames\n",
      "0      engr_ahsan_tariq_0724\n",
      "1          asim.zubair.98478\n",
      "2                musman00109\n",
      "3                   itz_hmna\n",
      "4                mr.ahtsham4\n",
      "..                       ...\n",
      "226           jazbaat_a_dard\n",
      "227  dj_gajanan_official_302\n",
      "228                hhshkmohd\n",
      "229             sarcastic_us\n",
      "230             poemsalchemy\n",
      "\n",
      "[231 rows x 1 columns]\n"
     ]
    }
   ],
   "source": [
    "ah=pd.DataFrame({'following_usernames':lis})\n",
    "print(ah)"
   ]
  },
  {
   "cell_type": "code",
   "execution_count": 15,
   "id": "79881afd",
   "metadata": {},
   "outputs": [],
   "source": [
    "ah.to_csv('following_usernames_instagram.csv')"
   ]
  },
  {
   "cell_type": "code",
   "execution_count": null,
   "id": "4b25294b",
   "metadata": {},
   "outputs": [],
   "source": []
  }
 ],
 "metadata": {
  "kernelspec": {
   "display_name": "Python 3 (ipykernel)",
   "language": "python",
   "name": "python3"
  },
  "language_info": {
   "codemirror_mode": {
    "name": "ipython",
    "version": 3
   },
   "file_extension": ".py",
   "mimetype": "text/x-python",
   "name": "python",
   "nbconvert_exporter": "python",
   "pygments_lexer": "ipython3",
   "version": "3.9.16"
  }
 },
 "nbformat": 4,
 "nbformat_minor": 5
}
